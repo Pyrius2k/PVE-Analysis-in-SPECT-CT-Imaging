{
 "cells": [
  {
   "cell_type": "code",
   "execution_count": null,
   "id": "fedcc6e8",
   "metadata": {},
   "outputs": [],
   "source": [
    "import SimpleITK as sitk\n",
    "import numpy as np\n",
    "\n",
    "patient_numbers = [\"14\"]\n",
    "time_points = [\"0\"]\n",
    "\n",
    "#for pat_nr in patient_numbers:\n",
    "    #for time in time_points:\n",
    "def reslice_spect_to_ct(spect_path, ct_path, output_path):\n",
    "            # Load the CT and SPECT images\n",
    "            ct_image = sitk.ReadImage(ct_path)\n",
    "            spect_image = sitk.ReadImage(spect_path)\n",
    "\n",
    "            # Transform SPECT to CT\n",
    "            reslice_transform = sitk.ResampleImageFilter()\n",
    "            reslice_transform.SetReferenceImage(ct_image)\n",
    "            resliced_spect_image = reslice_transform.Execute(spect_image)\n",
    "\n",
    "            # Save the resliced SPECT image\n",
    "            sitk.WriteImage(resliced_spect_image, output_path)\n",
    "\n",
    "ct_file_path = r\"...IMA.nii.gz\"\n",
    "spect_file_path = r\"...IMA.nii.gz\"\n",
    "output_file_path = r\"...IMA.nii.gz\"\n",
    "\n",
    "reslice_spect_to_ct(spect_file_path, ct_file_path, output_file_path)"
   ]
  },
  {
   "cell_type": "code",
   "execution_count": null,
   "id": "d490d7c1",
   "metadata": {},
   "outputs": [
    {
     "name": "stdout",
     "output_type": "stream",
     "text": [
      "0.95367431640625\n",
      "Aktivitätskonzentration in der Segmentierung: 20.930346214472934 MBq pro Milliliter\n"
     ]
    }
   ],
   "source": [
    "import SimpleITK as sitk\n",
    "import numpy as np\n",
    "\n",
    "patient_numbers = [\"14\"]\n",
    "time_points = [\"0\"]\n",
    "\n",
    "def calculate_activity_concentration(spect_path, segmentation_path):\n",
    "    # Load the SPECT image and the segmentation mask\n",
    "    spect_image = sitk.ReadImage(spect_path)\n",
    "    segmentation_image = sitk.ReadImage(segmentation_path)\n",
    "    \n",
    "    # Get pixel spacing (voxel dimensions)\n",
    "    spacing = spect_image.GetSpacing()\n",
    "\n",
    "    # Convert the images to NumPy arrays\n",
    "    spect_array = sitk.GetArrayFromImage(spect_image)\n",
    "    segmentation_array = sitk.GetArrayFromImage(segmentation_image)\n",
    "    \n",
    "    # Calculate the total activity within the segmentation\n",
    "    total_activity = np.sum(spect_array[segmentation_array > 0])\n",
    "\n",
    "    # Calculate the volume of the segmentation\n",
    "    total_volume = np.sum(segmentation_array > 0) * np.prod(spacing) \n",
    "    \n",
    "    print (np.prod(spacing))\n",
    "\n",
    "    # Calculate the activity concentration in units per milliliter\n",
    "    activity_concentration = total_activity / total_volume * 1000  # Convert cubic millimeters to milliliters\n",
    "\n",
    "    return activity_concentration\n",
    "\n",
    "# The loops are commented out, but would be used to iterate through patients and time points.\n",
    "#for pat_num in patient_numbers:\n",
    "#    for time in time_points:\n",
    "#        if __name__ == \"__main__\":\n",
    "\n",
    "spect_file_path = r\"...nii.gz\"\n",
    "segmentation_file_path = r\"...nii.gz\"\n",
    "concentration = calculate_activity_concentration(spect_file_path, segmentation_file_path)\n",
    "\n",
    "print(f\"Activity concentration in the segmentation: {concentration/1000000} MBq per milliliter\")"
   ]
  },
  {
   "cell_type": "code",
   "execution_count": null,
   "id": "f288b5f8",
   "metadata": {},
   "outputs": [],
   "source": []
  }
 ],
 "metadata": {
  "kernelspec": {
   "display_name": "Python 3",
   "language": "python",
   "name": "python3"
  },
  "language_info": {
   "codemirror_mode": {
    "name": "ipython",
    "version": 3
   },
   "file_extension": ".py",
   "mimetype": "text/x-python",
   "name": "python",
   "nbconvert_exporter": "python",
   "pygments_lexer": "ipython3",
   "version": "3.11.9"
  }
 },
 "nbformat": 4,
 "nbformat_minor": 5
}
